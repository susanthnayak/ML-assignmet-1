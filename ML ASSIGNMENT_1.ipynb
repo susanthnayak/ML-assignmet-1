{
 "cells": [
  {
   "cell_type": "markdown",
   "metadata": {},
   "source": [
    "# Question 1\n",
    "### Machine Learninig is giving ability to the computers to learn automatically without being explicitly programmed. Aim of ML is to create an AI application."
   ]
  },
  {
   "cell_type": "markdown",
   "metadata": {},
   "source": [
    "# Qustion 2\n",
    "### Medical Diagnosis\n",
    "### Self Driving cars\n",
    "### Product Recommendetions\n",
    "### Virtual Personal Assistant"
   ]
  },
  {
   "cell_type": "markdown",
   "metadata": {},
   "source": [
    "# Question 3\n",
    "\n",
    "### Labelled training set consists of features and actual output. It is usd to train the model.\n"
   ]
  },
  {
   "cell_type": "markdown",
   "metadata": {},
   "source": [
    "# Question 4\n",
    "\n",
    "### Regression and Classification are the two most important tasks of Supervised Machine Learning."
   ]
  },
  {
   "cell_type": "markdown",
   "metadata": {},
   "source": [
    "# Question 5\n",
    "\n",
    "### Customer Segmentation\n",
    "### Anomally Detection\n",
    "### Recommendor Systems\n",
    "### Clustering DNA Patterns in Genetics"
   ]
  },
  {
   "cell_type": "markdown",
   "metadata": {},
   "source": [
    "# Question 6\n",
    "\n",
    "### That would be Reinforcement Learning.\n"
   ]
  },
  {
   "cell_type": "markdown",
   "metadata": {},
   "source": [
    "#  Question 7\n",
    "### Spam detectioin is a Supervised Problem."
   ]
  },
  {
   "cell_type": "markdown",
   "metadata": {},
   "source": [
    "# Question 8\n",
    "\n",
    "### Online Learning is a learning system based on formalised teaching with the help of e-learning."
   ]
  },
  {
   "cell_type": "markdown",
   "metadata": {},
   "source": [
    "# Question 10\n",
    "\n",
    "### Out of Core Leaning is a set of algorithems working with data that can't fit into the memory of a single computer, but that can be handled by a data storage."
   ]
  },
  {
   "cell_type": "markdown",
   "metadata": {},
   "source": [
    "# Question 11\n",
    "\n",
    "### Clustering algorithems make predictions based on similarity measure."
   ]
  },
  {
   "cell_type": "markdown",
   "metadata": {},
   "source": [
    "# Question 12\n",
    "\n",
    "### Prameter is something that is learnt during machine learning process.\n",
    "### ex- weights,bias\n",
    "\n",
    "### Hyperparameters are something that we manually specify.\n",
    "### ex- Learnig rate, number of layers,epoch,neurons in each layer."
   ]
  },
  {
   "cell_type": "markdown",
   "metadata": {},
   "source": [
    "# Question 14\n",
    "\n",
    "# Challenges in Machine learning:\n",
    "\n",
    "### 1. Inaccesible data and data security\n",
    "### 2. Infrastructure requirement for testing and experiment.\n",
    "### 3. Rigid business model.\n",
    "### 4. Lack of talent."
   ]
  },
  {
   "cell_type": "markdown",
   "metadata": {},
   "source": [
    "# Question 15\n",
    "\n",
    "### If the model performs well on training data but fails to generalize the results\n",
    "### we call it overfitting.\n",
    "\n",
    "#### Then the model starts cathing the noisy data. as a result ,the efficiency and the accuracy of the model decreases\n"
   ]
  },
  {
   "cell_type": "markdown",
   "metadata": {},
   "source": [
    "# Question 16\n",
    "\n",
    "### The sample of data used to provide an unbiased evaluation of final model fit on the training data set.\n",
    "### we need it because it spans the various classes that the model would face , when used in the real world."
   ]
  },
  {
   "cell_type": "markdown",
   "metadata": {},
   "source": [
    "# Question 17\n",
    "\n",
    "### Validation set is used to frequently evaluate a model.it is used to fine tune the model hyperparameters"
   ]
  },
  {
   "cell_type": "markdown",
   "metadata": {},
   "source": [
    "# Question 19\n",
    "### If we use test set to choose hyperparameters ,we actually give the model chance to see the test data and to develope a bias towards it"
   ]
  },
  {
   "cell_type": "code",
   "execution_count": null,
   "metadata": {},
   "outputs": [],
   "source": []
  }
 ],
 "metadata": {
  "kernelspec": {
   "display_name": "Python 3",
   "language": "python",
   "name": "python3"
  },
  "language_info": {
   "codemirror_mode": {
    "name": "ipython",
    "version": 3
   },
   "file_extension": ".py",
   "mimetype": "text/x-python",
   "name": "python",
   "nbconvert_exporter": "python",
   "pygments_lexer": "ipython3",
   "version": "3.7.6"
  }
 },
 "nbformat": 4,
 "nbformat_minor": 4
}
